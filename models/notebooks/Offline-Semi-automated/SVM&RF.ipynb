{
 "cells": [
  {
   "cell_type": "markdown",
   "metadata": {},
   "source": [
    "# SVM and Random Forest Classification of Function Calls from Text\n",
    "This notebook trains SVM and Random Forest models to classify function call types from natural language input using scikit-learn NLP tools."
   ]
  },
  {
   "cell_type": "code",
   "execution_count": 9,
   "metadata": {},
   "outputs": [],
   "source": [
    "import json\n",
    "from sklearn.feature_extraction.text import TfidfVectorizer\n",
    "from sklearn.svm import LinearSVC\n",
    "from sklearn.ensemble import RandomForestClassifier\n",
    "from sklearn.metrics import classification_report, accuracy_score\n",
    "from sklearn.pipeline import make_pipeline\n",
    "\n",
    "# Helper to load data and extract function call type\n",
    "def load_data(filepath):\n",
    "    texts = []\n",
    "    labels = []\n",
    "    with open(filepath, 'r', encoding='utf-8') as f:\n",
    "        for line in f:\n",
    "            if not line.strip():\n",
    "                continue\n",
    "            obj = json.loads(line)\n",
    "            texts.append(obj['input'])\n",
    "            # Extract function name before first '('\n",
    "            label = obj['output'].split('(')[0]\n",
    "            labels.append(label)\n",
    "    return texts, labels\n",
    "\n",
    "# Load train and test data\n",
    "X_train, y_train = load_data('../../data/train_data.txt')\n",
    "X_test, y_test = load_data('../../data/test_data.txt')\n"
   ]
  },
  {
   "cell_type": "code",
   "execution_count": 10,
   "metadata": {},
   "outputs": [],
   "source": [
    "# SVM pipeline\n",
    "svm_pipeline = make_pipeline(\n",
    "    TfidfVectorizer(),\n",
    "    LinearSVC()\n",
    ")\n",
    "svm_pipeline.fit(X_train, y_train)\n",
    "y_pred_svm = svm_pipeline.predict(X_test)"
   ]
  },
  {
   "cell_type": "code",
   "execution_count": 11,
   "metadata": {},
   "outputs": [],
   "source": [
    "# Random Forest pipeline\n",
    "rf_pipeline = make_pipeline(\n",
    "    TfidfVectorizer(),\n",
    "    RandomForestClassifier(n_estimators=100, random_state=42)\n",
    ")\n",
    "rf_pipeline.fit(X_train, y_train)\n",
    "y_pred_rf = rf_pipeline.predict(X_test)"
   ]
  },
  {
   "cell_type": "code",
   "execution_count": 12,
   "metadata": {},
   "outputs": [
    {
     "name": "stdout",
     "output_type": "stream",
     "text": [
      "Input: Decrease the zoom by 6 levels.\n",
      "SVM Prediction: ZoomOut, RF Prediction: ZoomOut, True: ZoomOut\n",
      "----------------------------------------\n",
      "Input: Move map view to 51.3595, 25.5972!\n",
      "SVM Prediction: Move, RF Prediction: Move, True: Move\n",
      "----------------------------------------\n",
      "Input: Load the polyline vector using polyline_rivers_Asia_rf9.shp\n",
      "SVM Prediction: AddVector, RF Prediction: AddVector, True: AddVector\n",
      "----------------------------------------\n",
      "Input: Connect to WMS using https://tiles.io/geoserver/wms!\n",
      "SVM Prediction: AddWMS, RF Prediction: AddWMS, True: AddWMS\n",
      "----------------------------------------\n",
      "Input: I prefer the OpenMuseumMap layer for cultural sites.\n",
      "SVM Prediction: AddLayer, RF Prediction: AddLayer, True: AddLayer\n",
      "----------------------------------------\n"
     ]
    }
   ],
   "source": [
    "# View a few predictions from each model\n",
    "for i in range(5):\n",
    "    print(f\"Input: {X_test[i]}\")\n",
    "    print(f\"SVM Prediction: {y_pred_svm[i]}, RF Prediction: {y_pred_rf[i]}, True: {y_test[i]}\")\n",
    "    print(\"-\" * 40)"
   ]
  },
  {
   "cell_type": "code",
   "execution_count": 15,
   "metadata": {},
   "outputs": [
    {
     "name": "stdout",
     "output_type": "stream",
     "text": [
      "SVM Evaluation:\n",
      "Accuracy: 1.0\n",
      "              precision    recall  f1-score   support\n",
      "\n",
      "    AddLayer      1.000     1.000     1.000        32\n",
      "   AddMarker      1.000     1.000     1.000        27\n",
      "   AddVector      1.000     1.000     1.000        39\n",
      "      AddWMS      1.000     1.000     1.000        34\n",
      " Cartography      1.000     1.000     1.000        24\n",
      "        Draw      1.000     1.000     1.000        29\n",
      "        Move      1.000     1.000     1.000        42\n",
      "MoveToExtent      1.000     1.000     1.000        51\n",
      "      ZoomIn      1.000     1.000     1.000        41\n",
      "     ZoomOut      1.000     1.000     1.000        35\n",
      "\n",
      "    accuracy                          1.000       354\n",
      "   macro avg      1.000     1.000     1.000       354\n",
      "weighted avg      1.000     1.000     1.000       354\n",
      "\n"
     ]
    }
   ],
   "source": [
    "from sklearn.metrics import classification_report, accuracy_score\n",
    "\n",
    "print(\"SVM Evaluation:\")\n",
    "print(\"Accuracy:\", accuracy_score(y_test, y_pred_svm))\n",
    "print(classification_report(y_test, y_pred_svm, digits=3))"
   ]
  },
  {
   "cell_type": "code",
   "execution_count": 16,
   "metadata": {},
   "outputs": [
    {
     "name": "stdout",
     "output_type": "stream",
     "text": [
      "Random Forest Evaluation:\n",
      "Accuracy: 0.9774011299435028\n",
      "              precision    recall  f1-score   support\n",
      "\n",
      "    AddLayer      0.865     1.000     0.928        32\n",
      "   AddMarker      1.000     1.000     1.000        27\n",
      "   AddVector      1.000     1.000     1.000        39\n",
      "      AddWMS      1.000     1.000     1.000        34\n",
      " Cartography      1.000     1.000     1.000        24\n",
      "        Draw      1.000     1.000     1.000        29\n",
      "        Move      0.925     0.881     0.902        42\n",
      "MoveToExtent      1.000     0.941     0.970        51\n",
      "      ZoomIn      1.000     1.000     1.000        41\n",
      "     ZoomOut      1.000     1.000     1.000        35\n",
      "\n",
      "    accuracy                          0.977       354\n",
      "   macro avg      0.979     0.982     0.980       354\n",
      "weighted avg      0.979     0.977     0.978       354\n",
      "\n"
     ]
    }
   ],
   "source": [
    "print(\"Random Forest Evaluation:\")\n",
    "print(\"Accuracy:\", accuracy_score(y_test, y_pred_rf))\n",
    "print(classification_report(y_test, y_pred_rf, digits=3))"
   ]
  },
  {
   "cell_type": "code",
   "execution_count": 17,
   "metadata": {},
   "outputs": [],
   "source": [
    "from skl2onnx import convert_sklearn\n",
    "from skl2onnx.common.data_types import StringTensorType\n",
    "\n",
    "# For text-based pipelines (e.g., TfidfVectorizer)\n",
    "initial_type = [('input', StringTensorType([None, 1]))]\n",
    "\n",
    "onnx_model = convert_sklearn(svm_pipeline, initial_types=initial_type, target_opset=12)\n",
    "\n",
    "with open(\"svm_function_classifier.onnx\", \"wb\") as f:\n",
    "    f.write(onnx_model.SerializeToString())\n",
    "\n",
    "# Export to ONNX with simple array output\n",
    "onnx_model = convert_sklearn(\n",
    "    rf_pipeline,\n",
    "    initial_types=initial_type,\n",
    "    options={id(rf_pipeline): {'zipmap': False}},  # Disable dict-style output\n",
    "    target_opset=12\n",
    ")\n",
    "\n",
    "# Save the ONNX file\n",
    "with open(\"rf_function_classifier.onnx\", \"wb\") as f:\n",
    "    f.write(onnx_model.SerializeToString())\n"
   ]
  },
  {
   "cell_type": "code",
   "execution_count": 18,
   "metadata": {},
   "outputs": [
    {
     "name": "stdout",
     "output_type": "stream",
     "text": [
      "SVM model file size: 148.39 KB\n",
      "Random Forest model file size: 4116.88 KB\n"
     ]
    }
   ],
   "source": [
    "import os\n",
    "\n",
    "svm_size = os.path.getsize(\"svm_function_classifier.onnx\") / 1024  # size in KB\n",
    "rf_size = os.path.getsize(\"rf_function_classifier.onnx\") / 1024    # size in KB\n",
    "\n",
    "print(f\"SVM model file size: {svm_size:.2f} KB\")\n",
    "print(f\"Random Forest model file size: {rf_size:.2f} KB\")"
   ]
  },
  {
   "cell_type": "code",
   "execution_count": null,
   "metadata": {},
   "outputs": [],
   "source": []
  }
 ],
 "metadata": {
  "kernelspec": {
   "display_name": "Python 3 (ipykernel)",
   "language": "python",
   "name": "python3"
  },
  "language_info": {
   "codemirror_mode": {
    "name": "ipython",
    "version": 3
   },
   "file_extension": ".py",
   "mimetype": "text/x-python",
   "name": "python",
   "nbconvert_exporter": "python",
   "pygments_lexer": "ipython3",
   "version": "3.9.23"
  }
 },
 "nbformat": 4,
 "nbformat_minor": 4
}
